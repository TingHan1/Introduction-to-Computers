{
  "nbformat": 4,
  "nbformat_minor": 0,
  "metadata": {
    "colab": {
      "name": "國企1A 410550478 簡廷翰.ipynb",
      "provenance": [],
      "authorship_tag": "ABX9TyO16DiUfUpOKOWqShOGAqbp",
      "include_colab_link": true
    },
    "kernelspec": {
      "name": "python3",
      "display_name": "Python 3"
    },
    "language_info": {
      "name": "python"
    }
  },
  "cells": [
    {
      "cell_type": "markdown",
      "metadata": {
        "id": "view-in-github",
        "colab_type": "text"
      },
      "source": [
        "<a href=\"https://colab.research.google.com/github/TingHan1/Introduction-to-Computers/blob/main/%E5%9C%8B%E4%BC%811A_410550478_%E7%B0%A1%E5%BB%B7%E7%BF%B0.ipynb\" target=\"_parent\"><img src=\"https://colab.research.google.com/assets/colab-badge.svg\" alt=\"Open In Colab\"/></a>"
      ]
    },
    {
      "cell_type": "markdown",
      "source": [
        "指派運算子"
      ],
      "metadata": {
        "id": "6gFaFnzVPs_2"
      }
    },
    {
      "cell_type": "markdown",
      "source": [
        "a=a+b"
      ],
      "metadata": {
        "id": "y0lH2Ob4O3z3"
      }
    },
    {
      "cell_type": "code",
      "execution_count": 1,
      "metadata": {
        "colab": {
          "base_uri": "https://localhost:8080/"
        },
        "id": "7m4ZWgV9OECQ",
        "outputId": "a7392bad-ae5e-4b80-b4c4-33a6f4479b89"
      },
      "outputs": [
        {
          "output_type": "stream",
          "name": "stdout",
          "text": [
            "55\n"
          ]
        }
      ],
      "source": [
        "a = 50\n",
        "a += 5\n",
        "print(a)"
      ]
    },
    {
      "cell_type": "markdown",
      "source": [
        "a=a**b"
      ],
      "metadata": {
        "id": "nXQCY7eeO-Lo"
      }
    },
    {
      "cell_type": "code",
      "source": [
        "a = 20\n",
        "a **= 3\n",
        "print(a)"
      ],
      "metadata": {
        "colab": {
          "base_uri": "https://localhost:8080/"
        },
        "id": "X6-njvC_O2-n",
        "outputId": "4d337bce-00ed-4f3f-e706-2ad9446e8701"
      },
      "execution_count": 2,
      "outputs": [
        {
          "output_type": "stream",
          "name": "stdout",
          "text": [
            "8000\n"
          ]
        }
      ]
    },
    {
      "cell_type": "markdown",
      "source": [
        "a=a/b"
      ],
      "metadata": {
        "id": "wSsQlrpLPqA-"
      }
    },
    {
      "cell_type": "code",
      "source": [
        "a = 33\n",
        "a /= 6\n",
        "print(a)"
      ],
      "metadata": {
        "colab": {
          "base_uri": "https://localhost:8080/"
        },
        "id": "XCg47fPYPL5N",
        "outputId": "7906aebf-17d3-4ee4-c900-e6aaf488d539"
      },
      "execution_count": 4,
      "outputs": [
        {
          "output_type": "stream",
          "name": "stdout",
          "text": [
            "5.5\n"
          ]
        }
      ]
    },
    {
      "cell_type": "markdown",
      "source": [
        "關係運算子"
      ],
      "metadata": {
        "id": "LWPRh0PKPxIt"
      }
    },
    {
      "cell_type": "markdown",
      "source": [
        "檢查a是否大於b"
      ],
      "metadata": {
        "id": "FKOj_9wmQLhH"
      }
    },
    {
      "cell_type": "code",
      "source": [
        "a = 66 > 2\n",
        "print(a)"
      ],
      "metadata": {
        "colab": {
          "base_uri": "https://localhost:8080/"
        },
        "id": "ZLadyfjxPbD2",
        "outputId": "8a685f16-c324-482c-c99f-bc15bef9161f"
      },
      "execution_count": 5,
      "outputs": [
        {
          "output_type": "stream",
          "name": "stdout",
          "text": [
            "True\n"
          ]
        }
      ]
    },
    {
      "cell_type": "markdown",
      "source": [
        "檢查a是否等於b"
      ],
      "metadata": {
        "id": "eyUsGz5bQMHN"
      }
    },
    {
      "cell_type": "code",
      "source": [
        "a = 45==32\n",
        "print(a)"
      ],
      "metadata": {
        "colab": {
          "base_uri": "https://localhost:8080/"
        },
        "id": "jgOX0ogJQTid",
        "outputId": "a8e0dc3c-e6d3-4750-b261-be5ae1dabb3d"
      },
      "execution_count": 6,
      "outputs": [
        {
          "output_type": "stream",
          "name": "stdout",
          "text": [
            "False\n"
          ]
        }
      ]
    },
    {
      "cell_type": "markdown",
      "source": [
        "檢查a是否大於或等於b"
      ],
      "metadata": {
        "id": "g3E19JRgQT6t"
      }
    },
    {
      "cell_type": "code",
      "source": [
        "a = 82 >= 77\n",
        "print(a)"
      ],
      "metadata": {
        "colab": {
          "base_uri": "https://localhost:8080/"
        },
        "id": "mp6gCFksQY2B",
        "outputId": "39efaf5b-39cf-4df8-90f8-598a86ccee4c"
      },
      "execution_count": 7,
      "outputs": [
        {
          "output_type": "stream",
          "name": "stdout",
          "text": [
            "True\n"
          ]
        }
      ]
    },
    {
      "cell_type": "markdown",
      "source": [
        "邏輯運算子"
      ],
      "metadata": {
        "id": "Yg_4ESlcQ2tm"
      }
    },
    {
      "cell_type": "markdown",
      "source": [
        "and"
      ],
      "metadata": {
        "id": "c0y72npGQ6Au"
      }
    },
    {
      "cell_type": "code",
      "source": [
        "a =(23>1)and(55>6)\n",
        "print(a)"
      ],
      "metadata": {
        "colab": {
          "base_uri": "https://localhost:8080/"
        },
        "id": "0_IHhShWQ0rU",
        "outputId": "08d91e47-ea98-4639-8f88-f59abd068215"
      },
      "execution_count": 9,
      "outputs": [
        {
          "output_type": "stream",
          "name": "stdout",
          "text": [
            "True\n"
          ]
        }
      ]
    },
    {
      "cell_type": "markdown",
      "source": [
        "or"
      ],
      "metadata": {
        "id": "RZZBy_WWRA42"
      }
    },
    {
      "cell_type": "code",
      "source": [
        "a =(99>36)or(78>54)\n",
        "print(a)"
      ],
      "metadata": {
        "colab": {
          "base_uri": "https://localhost:8080/"
        },
        "id": "i-bd-0JdRCyW",
        "outputId": "3536ed92-704a-48a9-b449-e3871c0b57b6"
      },
      "execution_count": 11,
      "outputs": [
        {
          "output_type": "stream",
          "name": "stdout",
          "text": [
            "True\n"
          ]
        }
      ]
    },
    {
      "cell_type": "markdown",
      "source": [
        "not"
      ],
      "metadata": {
        "id": "7WhRBJZcRBzG"
      }
    },
    {
      "cell_type": "code",
      "source": [
        "a = not(28>22)\n",
        "print(a)"
      ],
      "metadata": {
        "colab": {
          "base_uri": "https://localhost:8080/"
        },
        "id": "QImC0HSnRDHm",
        "outputId": "7d18ff00-48fb-4b71-e685-a68e836096be"
      },
      "execution_count": 13,
      "outputs": [
        {
          "output_type": "stream",
          "name": "stdout",
          "text": [
            "False\n"
          ]
        }
      ]
    }
  ]
}
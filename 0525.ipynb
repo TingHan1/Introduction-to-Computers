{
  "nbformat": 4,
  "nbformat_minor": 0,
  "metadata": {
    "colab": {
      "name": "0525.ipynb",
      "provenance": [],
      "authorship_tag": "ABX9TyMLa1ndlIDQN9V2cIgxTivc",
      "include_colab_link": true
    },
    "kernelspec": {
      "name": "python3",
      "display_name": "Python 3"
    },
    "language_info": {
      "name": "python"
    }
  },
  "cells": [
    {
      "cell_type": "markdown",
      "metadata": {
        "id": "view-in-github",
        "colab_type": "text"
      },
      "source": [
        "<a href=\"https://colab.research.google.com/github/TingHan1/Introduction-to-Computers/blob/main/0525.ipynb\" target=\"_parent\"><img src=\"https://colab.research.google.com/assets/colab-badge.svg\" alt=\"Open In Colab\"/></a>"
      ]
    },
    {
      "cell_type": "code",
      "execution_count": 1,
      "metadata": {
        "colab": {
          "base_uri": "https://localhost:8080/"
        },
        "id": "hoNY5kmK-9yG",
        "outputId": "eb364336-0b9c-4598-a1b6-4cffca77a6be"
      },
      "outputs": [
        {
          "output_type": "stream",
          "name": "stdout",
          "text": [
            "test\n"
          ]
        }
      ],
      "source": [
        "print('test')"
      ]
    },
    {
      "cell_type": "code",
      "source": [
        "sum = 0\n",
        "test = int(input('請輸入一個正整數'))\n",
        "for n in range(1,test+1):\n",
        "  sum =sum+n\n",
        "print('1到',test,'的整數合為',sum)"
      ],
      "metadata": {
        "colab": {
          "base_uri": "https://localhost:8080/"
        },
        "id": "Pn_AQ-ob_kRY",
        "outputId": "36e4a068-905a-4fa5-e021-ce94e190d667"
      },
      "execution_count": 2,
      "outputs": [
        {
          "output_type": "stream",
          "name": "stdout",
          "text": [
            "請輸入一個正整數50\n",
            "1到 50 的整數合為 1275\n"
          ]
        }
      ]
    },
    {
      "cell_type": "code",
      "source": [
        "sum = 0\n",
        "test = int(input('請輸入一個正整數'))\n",
        "for n in range(1,test+1):\n",
        "  sum =sum+n\n",
        "print('1到',test,'的整數合為',sum)"
      ],
      "metadata": {
        "colab": {
          "base_uri": "https://localhost:8080/"
        },
        "id": "S4gm1osyARfn",
        "outputId": "0eb90dd1-e5e7-47fb-ec0d-34e94fcfb64a"
      },
      "execution_count": 3,
      "outputs": [
        {
          "output_type": "stream",
          "name": "stdout",
          "text": [
            "請輸入一個正整數10\n",
            "1到 10 的整數合為 55\n"
          ]
        }
      ]
    },
    {
      "cell_type": "code",
      "source": [
        "sum = 0\n",
        "test = int(input('請輸入一個正整數'))\n",
        "for m in range(1,test+1):\n",
        "  sum =sum+m\n",
        "  print('1到',str(m)+'的整數合為',sum)"
      ],
      "metadata": {
        "colab": {
          "base_uri": "https://localhost:8080/"
        },
        "id": "NxUVfa6BAT0H",
        "outputId": "f091989c-eaee-4aae-e923-b9570754a65d"
      },
      "execution_count": 6,
      "outputs": [
        {
          "output_type": "stream",
          "name": "stdout",
          "text": [
            "請輸入一個正整數50\n",
            "1到 1的整數合為 1\n",
            "1到 2的整數合為 3\n",
            "1到 3的整數合為 6\n",
            "1到 4的整數合為 10\n",
            "1到 5的整數合為 15\n",
            "1到 6的整數合為 21\n",
            "1到 7的整數合為 28\n",
            "1到 8的整數合為 36\n",
            "1到 9的整數合為 45\n",
            "1到 10的整數合為 55\n",
            "1到 11的整數合為 66\n",
            "1到 12的整數合為 78\n",
            "1到 13的整數合為 91\n",
            "1到 14的整數合為 105\n",
            "1到 15的整數合為 120\n",
            "1到 16的整數合為 136\n",
            "1到 17的整數合為 153\n",
            "1到 18的整數合為 171\n",
            "1到 19的整數合為 190\n",
            "1到 20的整數合為 210\n",
            "1到 21的整數合為 231\n",
            "1到 22的整數合為 253\n",
            "1到 23的整數合為 276\n",
            "1到 24的整數合為 300\n",
            "1到 25的整數合為 325\n",
            "1到 26的整數合為 351\n",
            "1到 27的整數合為 378\n",
            "1到 28的整數合為 406\n",
            "1到 29的整數合為 435\n",
            "1到 30的整數合為 465\n",
            "1到 31的整數合為 496\n",
            "1到 32的整數合為 528\n",
            "1到 33的整數合為 561\n",
            "1到 34的整數合為 595\n",
            "1到 35的整數合為 630\n",
            "1到 36的整數合為 666\n",
            "1到 37的整數合為 703\n",
            "1到 38的整數合為 741\n",
            "1到 39的整數合為 780\n",
            "1到 40的整數合為 820\n",
            "1到 41的整數合為 861\n",
            "1到 42的整數合為 903\n",
            "1到 43的整數合為 946\n",
            "1到 44的整數合為 990\n",
            "1到 45的整數合為 1035\n",
            "1到 46的整數合為 1081\n",
            "1到 47的整數合為 1128\n",
            "1到 48的整數合為 1176\n",
            "1到 49的整數合為 1225\n",
            "1到 50的整數合為 1275\n"
          ]
        }
      ]
    },
    {
      "cell_type": "code",
      "source": [
        "for j in range(1,5):\n",
        "  print(j)\n",
        "  for i in range(1,3):\n",
        "    k = i*j\n",
        "    print(j,'*',i,'=',k)"
      ],
      "metadata": {
        "colab": {
          "base_uri": "https://localhost:8080/"
        },
        "id": "kHvR-lwSCjAo",
        "outputId": "50427ebb-44b7-4839-f2f4-f2347bbdebb7"
      },
      "execution_count": 8,
      "outputs": [
        {
          "output_type": "stream",
          "name": "stdout",
          "text": [
            "1\n",
            "1 * 1 = 1\n",
            "1 * 2 = 2\n",
            "2\n",
            "2 * 1 = 2\n",
            "2 * 2 = 4\n",
            "3\n",
            "3 * 1 = 3\n",
            "3 * 2 = 6\n",
            "4\n",
            "4 * 1 = 4\n",
            "4 * 2 = 8\n"
          ]
        }
      ]
    },
    {
      "cell_type": "code",
      "source": [
        "for j in range(1,6):\n",
        "  print(j)\n",
        "  for i in range(1,3):\n",
        "    k = i*j\n",
        "    print(j,'*',i,'=',k)"
      ],
      "metadata": {
        "colab": {
          "base_uri": "https://localhost:8080/"
        },
        "id": "l7aiQ0SqDavZ",
        "outputId": "febbd332-2da8-44fe-96e0-651655f8bc38"
      },
      "execution_count": 9,
      "outputs": [
        {
          "output_type": "stream",
          "name": "stdout",
          "text": [
            "1\n",
            "1 * 1 = 1\n",
            "1 * 2 = 2\n",
            "2\n",
            "2 * 1 = 2\n",
            "2 * 2 = 4\n",
            "3\n",
            "3 * 1 = 3\n",
            "3 * 2 = 6\n",
            "4\n",
            "4 * 1 = 4\n",
            "4 * 2 = 8\n",
            "5\n",
            "5 * 1 = 5\n",
            "5 * 2 = 10\n"
          ]
        }
      ]
    },
    {
      "cell_type": "code",
      "source": [
        "for i in range(1,5):\n",
        "  if(i==4):\n",
        "    break\n",
        "  print(i,end = ' ')"
      ],
      "metadata": {
        "colab": {
          "base_uri": "https://localhost:8080/"
        },
        "id": "4kOPweunD82p",
        "outputId": "55c5a006-1b78-450d-98e4-d5976c7834ab"
      },
      "execution_count": 13,
      "outputs": [
        {
          "output_type": "stream",
          "name": "stdout",
          "text": [
            "1 2 3 "
          ]
        }
      ]
    },
    {
      "cell_type": "code",
      "source": [
        "count = 0\n",
        "for string in 'hello!':\n",
        "  count+=1\n",
        "  if string == 'o':\n",
        "    break\n",
        "  print(string)\n",
        "print('迴圈結束')\n",
        "print('迴圈進行了 %d 次' %count)"
      ],
      "metadata": {
        "colab": {
          "base_uri": "https://localhost:8080/"
        },
        "id": "G2bL0NM1EeWg",
        "outputId": "d81e0a92-a968-44a9-c152-4523bd117d43"
      },
      "execution_count": 22,
      "outputs": [
        {
          "output_type": "stream",
          "name": "stdout",
          "text": [
            "h\n",
            "e\n",
            "l\n",
            "l\n",
            "迴圈結束\n",
            "迴圈進行了 5 次\n"
          ]
        }
      ]
    },
    {
      "cell_type": "code",
      "source": [
        "count = 0\n",
        "for string in '測試看看!':\n",
        "  count+=1\n",
        "  if string == '看':\n",
        "    break\n",
        "  print(string)\n",
        "print('迴圈結束')\n",
        "print('迴圈進行了 %d 次' %count)"
      ],
      "metadata": {
        "colab": {
          "base_uri": "https://localhost:8080/"
        },
        "id": "MxzM7JacGFOf",
        "outputId": "893c0d6d-3c56-47c1-8ce1-0e2ecbb18891"
      },
      "execution_count": 23,
      "outputs": [
        {
          "output_type": "stream",
          "name": "stdout",
          "text": [
            "測\n",
            "試\n",
            "迴圈結束\n",
            "迴圈進行了 3 次\n"
          ]
        }
      ]
    },
    {
      "cell_type": "code",
      "source": [
        "for i in range(2, 10):\n",
        "  for j in range(1, 10):\n",
        "    k = i * j\n",
        "    print(\"%d*%d= %2d \" %(i,j,k), end=\"\")\n",
        "  print() "
      ],
      "metadata": {
        "colab": {
          "base_uri": "https://localhost:8080/"
        },
        "id": "d2zyhu8_HEcH",
        "outputId": "1f9ed91c-3f6c-4286-dc80-4485091f0ede"
      },
      "execution_count": 86,
      "outputs": [
        {
          "output_type": "stream",
          "name": "stdout",
          "text": [
            "2*1=  2 2*2=  4 2*3=  6 2*4=  8 2*5= 10 2*6= 12 2*7= 14 2*8= 16 2*9= 18 \n",
            "3*1=  3 3*2=  6 3*3=  9 3*4= 12 3*5= 15 3*6= 18 3*7= 21 3*8= 24 3*9= 27 \n",
            "4*1=  4 4*2=  8 4*3= 12 4*4= 16 4*5= 20 4*6= 24 4*7= 28 4*8= 32 4*9= 36 \n",
            "5*1=  5 5*2= 10 5*3= 15 5*4= 20 5*5= 25 5*6= 30 5*7= 35 5*8= 40 5*9= 45 \n",
            "6*1=  6 6*2= 12 6*3= 18 6*4= 24 6*5= 30 6*6= 36 6*7= 42 6*8= 48 6*9= 54 \n",
            "7*1=  7 7*2= 14 7*3= 21 7*4= 28 7*5= 35 7*6= 42 7*7= 49 7*8= 56 7*9= 63 \n",
            "8*1=  8 8*2= 16 8*3= 24 8*4= 32 8*5= 40 8*6= 48 8*7= 56 8*8= 64 8*9= 72 \n",
            "9*1=  9 9*2= 18 9*3= 27 9*4= 36 9*5= 45 9*6= 54 9*7= 63 9*8= 72 9*9= 81 \n"
          ]
        }
      ]
    },
    {
      "cell_type": "code",
      "source": [
        "x = int(input(\"請輸入 a 的值:\"))\n",
        "y = int(input(\"請輸入 b 的值:\"))\n",
        "if x > y :\n",
        "    c = x\n",
        "else:\n",
        "    c = y\n",
        "m = (x + 1) * (y + 1)\n",
        "for k in range(c, m):\n",
        "    if k % x == 0 and k % y == 0:\n",
        "        print(x,'和',y,'的最小公倍數=',k)\n",
        "        break"
      ],
      "metadata": {
        "colab": {
          "base_uri": "https://localhost:8080/"
        },
        "id": "8uS4tinhItj3",
        "outputId": "28826322-34b8-471e-d5ae-fbee2127bf06"
      },
      "execution_count": 50,
      "outputs": [
        {
          "output_type": "stream",
          "name": "stdout",
          "text": [
            "請輸入 a 的值:4\n",
            "請輸入 b 的值:6\n",
            "4 和 6 的最小公倍數= 12\n"
          ]
        }
      ]
    },
    {
      "cell_type": "code",
      "source": [
        "x = int(input(\"請輸入 a 的值:\"))\n",
        "y = int(input(\"請輸入 b 的值:\"))\n",
        "if x > y :\n",
        "    c = x\n",
        "else:\n",
        "    c = y\n",
        "m = (x + 1) * (y + 1)\n",
        "for k in range(c, m):\n",
        "    if k % x == 0 and k % y == 0:\n",
        "        print(x,'和',y,'的最小公倍數=',k)\n",
        "        break"
      ],
      "metadata": {
        "colab": {
          "base_uri": "https://localhost:8080/"
        },
        "id": "8DoNfjzHNdmZ",
        "outputId": "2b55be30-4cfa-43c6-b299-87142264e477"
      },
      "execution_count": 51,
      "outputs": [
        {
          "output_type": "stream",
          "name": "stdout",
          "text": [
            "請輸入 a 的值:9\n",
            "請輸入 b 的值:15\n",
            "9 和 15 的最小公倍數= 45\n"
          ]
        }
      ]
    },
    {
      "cell_type": "code",
      "source": [
        "n = int(input('請輸入正整數:'))\n",
        "for i in range(1,n+1):\n",
        "  if i % 5 == 0:\n",
        "    continue\n",
        "  print(i,'',end='')"
      ],
      "metadata": {
        "colab": {
          "base_uri": "https://localhost:8080/"
        },
        "id": "qAAIG1GnS6kP",
        "outputId": "283766d6-099d-4e47-d3ec-2acbfc17349b"
      },
      "execution_count": 74,
      "outputs": [
        {
          "output_type": "stream",
          "name": "stdout",
          "text": [
            "請輸入正整數:12\n",
            "1 2 3 4 6 7 8 9 11 12 "
          ]
        }
      ]
    },
    {
      "cell_type": "code",
      "source": [
        "n = int(input('請輸入正整數:'))\n",
        "for i in range(1,n+1):\n",
        "  if i % 5 == 0:\n",
        "    continue\n",
        "  print(i,'',end='')"
      ],
      "metadata": {
        "colab": {
          "base_uri": "https://localhost:8080/"
        },
        "id": "LgebSbK7UaZ2",
        "outputId": "038b8623-5c08-403c-df07-b3f20ff1d92a"
      },
      "execution_count": 77,
      "outputs": [
        {
          "output_type": "stream",
          "name": "stdout",
          "text": [
            "請輸入正整數:21\n",
            "1 2 3 4 6 7 8 9 11 12 13 14 16 17 18 19 21 "
          ]
        }
      ]
    }
  ]
}